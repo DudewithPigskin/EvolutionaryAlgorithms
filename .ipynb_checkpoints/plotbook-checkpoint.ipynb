{
 "cells": [
  {
   "cell_type": "code",
   "execution_count": 2,
   "metadata": {},
   "outputs": [],
   "source": [
    "import pandas as pd\n",
    "import matplotlib.pyplot as plt\n",
    "import numpy as np\n",
    "import subprocess"
   ]
  },
  {
   "cell_type": "markdown",
   "metadata": {},
   "source": [
    "### Run algorithm"
   ]
  },
  {
   "cell_type": "code",
   "execution_count": 3,
   "metadata": {
    "scrolled": true
   },
   "outputs": [
    {
     "data": {
      "text/plain": [
       "CompletedProcess(args=array(['./uhv_gomea', '-s', '-e', ' -v', '1', '35', '315', '-5', '5',\n",
       "       '100', '1000', '1000000', '60', '120.7876', '1234', './'],\n",
       "      dtype='<U11'), returncode=0)"
      ]
     },
     "execution_count": 3,
     "metadata": {},
     "output_type": "execute_result"
    }
   ],
   "source": [
    "command = np.array([\"./uhv_gomea\", \"-s\", \"-e\", \" -v\", \"1\", \"35\", \"3\" \"15\", \"-5\",\n",
    "       \"5\", \"100\", \"1000\", \"1000000\", \"60\", \"120.7876\", \"1234\",  \"./\"])\n",
    "  \n",
    "subprocess.run(command)\n"
   ]
  },
  {
   "cell_type": "markdown",
   "metadata": {},
   "source": [
    "### Process data and show plots"
   ]
  },
  {
   "cell_type": "code",
   "execution_count": 39,
   "metadata": {
    "scrolled": true
   },
   "outputs": [
    {
     "name": "stdout",
     "output_type": "stream",
     "text": [
      "[[ 7.07945e-01  2.51556e-02  0.00000e+00  0.00000e+00  0.00000e+00\n",
      "   0.00000e+00  0.00000e+00  0.00000e+00  0.00000e+00  0.00000e+00\n",
      "   0.00000e+00  0.00000e+00  8.41395e-01  1.96330e-08]\n",
      " [ 9.94992e-01  6.28680e-06  0.00000e+00  0.00000e+00  0.00000e+00\n",
      "   0.00000e+00  0.00000e+00  0.00000e+00  0.00000e+00  0.00000e+00\n",
      "   0.00000e+00  0.00000e+00  9.97493e-01 -3.18080e-09]\n",
      " [ 6.28702e-06  9.94992e-01  0.00000e+00  0.00000e+00  0.00000e+00\n",
      "   0.00000e+00  0.00000e+00  0.00000e+00  0.00000e+00  0.00000e+00\n",
      "   0.00000e+00  0.00000e+00  2.50739e-03  1.06957e-09]\n",
      " [ 2.51557e-02  7.07944e-01  0.00000e+00  0.00000e+00  0.00000e+00\n",
      "   0.00000e+00  0.00000e+00  0.00000e+00  0.00000e+00  0.00000e+00\n",
      "   0.00000e+00  0.00000e+00  1.58606e-01 -2.03710e-08]\n",
      " [ 1.54410e-01  3.68510e-01  0.00000e+00  0.00000e+00  0.00000e+00\n",
      "   0.00000e+00  0.00000e+00  0.00000e+00  0.00000e+00  0.00000e+00\n",
      "   0.00000e+00  0.00000e+00  3.92950e-01 -1.52242e-08]\n",
      " [ 3.68511e-01  1.54409e-01  0.00000e+00  0.00000e+00  0.00000e+00\n",
      "   0.00000e+00  0.00000e+00  0.00000e+00  0.00000e+00  0.00000e+00\n",
      "   0.00000e+00  0.00000e+00  6.07051e-01  3.80272e-09]\n",
      " [ 7.92651e-02  5.16184e-01  0.00000e+00  0.00000e+00  0.00000e+00\n",
      "   0.00000e+00  0.00000e+00  0.00000e+00  0.00000e+00  0.00000e+00\n",
      "   0.00000e+00  0.00000e+00  2.81541e-01 -5.27262e-08]\n",
      " [ 2.50001e-01  2.49999e-01  0.00000e+00  0.00000e+00  0.00000e+00\n",
      "   0.00000e+00  0.00000e+00  0.00000e+00  0.00000e+00  0.00000e+00\n",
      "   0.00000e+00  0.00000e+00  5.00001e-01 -5.35094e-08]\n",
      " [ 5.16185e-01  7.92646e-02  0.00000e+00  0.00000e+00  0.00000e+00\n",
      "   0.00000e+00  0.00000e+00  0.00000e+00  0.00000e+00  0.00000e+00\n",
      "   0.00000e+00  0.00000e+00  7.18460e-01 -5.53696e-08]]\n"
     ]
    },
    {
     "data": {
      "text/html": [
       "<div>\n",
       "<style scoped>\n",
       "    .dataframe tbody tr th:only-of-type {\n",
       "        vertical-align: middle;\n",
       "    }\n",
       "\n",
       "    .dataframe tbody tr th {\n",
       "        vertical-align: top;\n",
       "    }\n",
       "\n",
       "    .dataframe thead th {\n",
       "        text-align: right;\n",
       "    }\n",
       "</style>\n",
       "<table border=\"1\" class=\"dataframe\">\n",
       "  <thead>\n",
       "    <tr style=\"text-align: right;\">\n",
       "      <th></th>\n",
       "      <th>Gen</th>\n",
       "      <th>Evals</th>\n",
       "      <th>Time</th>\n",
       "      <th>Best-f</th>\n",
       "      <th>Best-constr</th>\n",
       "      <th>Average-obj</th>\n",
       "      <th>Std-obj</th>\n",
       "      <th>Avg-constr</th>\n",
       "      <th>Std-constr</th>\n",
       "      <th>Best-HV</th>\n",
       "      <th>Best-IGD</th>\n",
       "      <th>Best-GD</th>\n",
       "      <th>size</th>\n",
       "      <th>Archive-HV</th>\n",
       "      <th>Archive-IGD</th>\n",
       "      <th>Archive-GD</th>\n",
       "      <th>size.1</th>\n",
       "      <th>MO-evals</th>\n",
       "    </tr>\n",
       "  </thead>\n",
       "  <tbody>\n",
       "    <tr>\n",
       "      <th>0</th>\n",
       "      <td>0</td>\n",
       "      <td>31</td>\n",
       "      <td>0.000316</td>\n",
       "      <td>3431.290750</td>\n",
       "      <td>0.0</td>\n",
       "      <td>10940.00</td>\n",
       "      <td>0.4626</td>\n",
       "      <td>0.0</td>\n",
       "      <td>0.0</td>\n",
       "      <td>14.468877</td>\n",
       "      <td>9.708805</td>\n",
       "      <td>9.719329</td>\n",
       "      <td>1</td>\n",
       "      <td>0.0</td>\n",
       "      <td>0.0</td>\n",
       "      <td>0.0</td>\n",
       "      <td>0</td>\n",
       "      <td>279</td>\n",
       "    </tr>\n",
       "    <tr>\n",
       "      <th>1</th>\n",
       "      <td>1</td>\n",
       "      <td>61</td>\n",
       "      <td>0.002332</td>\n",
       "      <td>868.201906</td>\n",
       "      <td>0.0</td>\n",
       "      <td>2124.00</td>\n",
       "      <td>0.4941</td>\n",
       "      <td>0.0</td>\n",
       "      <td>0.0</td>\n",
       "      <td>105.444349</td>\n",
       "      <td>2.075406</td>\n",
       "      <td>1.711662</td>\n",
       "      <td>2</td>\n",
       "      <td>0.0</td>\n",
       "      <td>0.0</td>\n",
       "      <td>0.0</td>\n",
       "      <td>0</td>\n",
       "      <td>549</td>\n",
       "    </tr>\n",
       "    <tr>\n",
       "      <th>2</th>\n",
       "      <td>2</td>\n",
       "      <td>96</td>\n",
       "      <td>0.004700</td>\n",
       "      <td>11.763631</td>\n",
       "      <td>0.0</td>\n",
       "      <td>758.40</td>\n",
       "      <td>1.8410</td>\n",
       "      <td>0.0</td>\n",
       "      <td>0.0</td>\n",
       "      <td>105.444349</td>\n",
       "      <td>2.075406</td>\n",
       "      <td>1.711662</td>\n",
       "      <td>2</td>\n",
       "      <td>0.0</td>\n",
       "      <td>0.0</td>\n",
       "      <td>0.0</td>\n",
       "      <td>0</td>\n",
       "      <td>864</td>\n",
       "    </tr>\n",
       "    <tr>\n",
       "      <th>3</th>\n",
       "      <td>3</td>\n",
       "      <td>131</td>\n",
       "      <td>0.007171</td>\n",
       "      <td>-100.827169</td>\n",
       "      <td>0.0</td>\n",
       "      <td>73.83</td>\n",
       "      <td>3.1570</td>\n",
       "      <td>0.0</td>\n",
       "      <td>0.0</td>\n",
       "      <td>105.444349</td>\n",
       "      <td>2.075406</td>\n",
       "      <td>1.711662</td>\n",
       "      <td>2</td>\n",
       "      <td>0.0</td>\n",
       "      <td>0.0</td>\n",
       "      <td>0.0</td>\n",
       "      <td>0</td>\n",
       "      <td>1179</td>\n",
       "    </tr>\n",
       "    <tr>\n",
       "      <th>4</th>\n",
       "      <td>4</td>\n",
       "      <td>166</td>\n",
       "      <td>0.009225</td>\n",
       "      <td>-117.280016</td>\n",
       "      <td>0.0</td>\n",
       "      <td>-99.36</td>\n",
       "      <td>0.1769</td>\n",
       "      <td>0.0</td>\n",
       "      <td>0.0</td>\n",
       "      <td>118.596001</td>\n",
       "      <td>0.732610</td>\n",
       "      <td>0.325323</td>\n",
       "      <td>2</td>\n",
       "      <td>0.0</td>\n",
       "      <td>0.0</td>\n",
       "      <td>0.0</td>\n",
       "      <td>0</td>\n",
       "      <td>1494</td>\n",
       "    </tr>\n",
       "  </tbody>\n",
       "</table>\n",
       "</div>"
      ],
      "text/plain": [
       "   Gen  Evals      Time       Best-f  Best-constr  Average-obj  Std-obj  \\\n",
       "0    0     31  0.000316  3431.290750          0.0     10940.00   0.4626   \n",
       "1    1     61  0.002332   868.201906          0.0      2124.00   0.4941   \n",
       "2    2     96  0.004700    11.763631          0.0       758.40   1.8410   \n",
       "3    3    131  0.007171  -100.827169          0.0        73.83   3.1570   \n",
       "4    4    166  0.009225  -117.280016          0.0       -99.36   0.1769   \n",
       "\n",
       "   Avg-constr  Std-constr     Best-HV  Best-IGD   Best-GD  size  Archive-HV  \\\n",
       "0         0.0         0.0   14.468877  9.708805  9.719329     1         0.0   \n",
       "1         0.0         0.0  105.444349  2.075406  1.711662     2         0.0   \n",
       "2         0.0         0.0  105.444349  2.075406  1.711662     2         0.0   \n",
       "3         0.0         0.0  105.444349  2.075406  1.711662     2         0.0   \n",
       "4         0.0         0.0  118.596001  0.732610  0.325323     2         0.0   \n",
       "\n",
       "   Archive-IGD  Archive-GD  size.1  MO-evals  \n",
       "0          0.0         0.0       0       279  \n",
       "1          0.0         0.0       0       549  \n",
       "2          0.0         0.0       0       864  \n",
       "3          0.0         0.0       0      1179  \n",
       "4          0.0         0.0       0      1494  "
      ]
     },
     "execution_count": 39,
     "metadata": {},
     "output_type": "execute_result"
    }
   ],
   "source": [
    "# path to statistics file\n",
    "path1 = \"./statistics_UVHGOMEA_lmod0_problem26_p9_run1234.dat\"\n",
    "\n",
    "#path to pareto front file\n",
    "path2 = \"./best_final_UVHGOMEA_lmod0_problem26_p9_run1234.dat\"\n",
    "\n",
    "\n",
    "df = pd.read_csv(path1, delim_whitespace=True)\n",
    "data = np.genfromtxt(path2, delimiter='')\n",
    "\n",
    "print(data)\n",
    "df.head()\n"
   ]
  },
  {
   "cell_type": "code",
   "execution_count": 40,
   "metadata": {
    "scrolled": true
   },
   "outputs": [
    {
     "name": "stdout",
     "output_type": "stream",
     "text": [
      "[[7.07945e-01 2.51556e-02]\n",
      " [9.94992e-01 6.28680e-06]\n",
      " [6.28702e-06 9.94992e-01]\n",
      " [2.51557e-02 7.07944e-01]\n",
      " [1.54410e-01 3.68510e-01]\n",
      " [3.68511e-01 1.54409e-01]\n",
      " [7.92651e-02 5.16184e-01]\n",
      " [2.50001e-01 2.49999e-01]\n",
      " [5.16185e-01 7.92646e-02]]\n"
     ]
    },
    {
     "data": {
      "text/plain": [
       "[<matplotlib.lines.Line2D at 0x7fb5c5697c40>]"
      ]
     },
     "execution_count": 40,
     "metadata": {},
     "output_type": "execute_result"
    },
    {
     "data": {
      "image/png": "[encoded data removed]",
      "text/plain": [
       "<Figure size 432x288 with 1 Axes>"
      ]
     },
     "metadata": {
      "needs_background": "light"
     },
     "output_type": "display_data"
    }
   ],
   "source": [
    "data_conc = np.zeros((len(data[:,0]),2))\n",
    "data_conc[:,0] = data[:,0]\n",
    "data_conc[:,1] = data[:,1]\n",
    "\n",
    "print(data_conc)\n",
    "\n",
    "plt.plot(data_conc[:,0],data_conc[:,1],'o')"
   ]
  },
  {
   "cell_type": "code",
   "execution_count": 23,
   "metadata": {},
   "outputs": [
    {
     "data": {
      "text/plain": [
       "[<matplotlib.lines.Line2D at 0x7fb5a28bd130>]"
      ]
     },
     "execution_count": 23,
     "metadata": {},
     "output_type": "execute_result"
    },
    {
     "data": {
      "image/png": "[encoded data removed]",
      "text/plain": [
       "<Figure size 432x288 with 1 Axes>"
      ]
     },
     "metadata": {
      "needs_background": "light"
     },
     "output_type": "display_data"
    }
   ],
   "source": [
    "plt.plot(df.Evals, df['Best-f'])"
   ]
  }
 ],
 "metadata": {
  "kernelspec": {
   "display_name": "Python 3",
   "language": "python",
   "name": "python3"
  },
  "language_info": {
   "codemirror_mode": {
    "name": "ipython",
    "version": 3
   },
   "file_extension": ".py",
   "mimetype": "text/x-python",
   "name": "python",
   "nbconvert_exporter": "python",
   "pygments_lexer": "ipython3",
   "version": "3.8.0"
  }
 },
 "nbformat": 4,
 "nbformat_minor": 4
}
