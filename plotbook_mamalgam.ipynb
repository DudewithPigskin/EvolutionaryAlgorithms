{
 "cells": [
  {
   "cell_type": "code",
   "execution_count": 2,
   "metadata": {},
   "outputs": [],
   "source": [
    "import pandas as pd\n",
    "import matplotlib.pyplot as plt\n",
    "import numpy as np\n",
    "import subprocess"
   ]
  },
  {
   "cell_type": "markdown",
   "metadata": {},
   "source": [
    "### Settings"
   ]
  },
  {
   "cell_type": "code",
   "execution_count": 7,
   "metadata": {},
   "outputs": [],
   "source": [
    "#om mee te spelen (misschien? niet mijn probleem)\n",
    "apprs = \"9\" #approximation set size\n",
    "\n",
    "#(almost) set in stone\n",
    "algo = \"./mamalgam\" #which executable to use\n",
    "pro = \"35\" #problem index\n",
    "rnd = \"1234\" #random seed\n",
    "wrp = \"./\"\n",
    "\n",
    "# to keep in line with the others\n",
    "#ssize = \"15\" #solution set size\n",
    "low = \"-5\" #lower init bound\n",
    "upp = \"5\" #upper init bound\n",
    "pop = \"100\" #population size\n",
    "ela = \"1000\" #elitist archive size target\n",
    "eva = \"10000\" #maximum number of MO evaluations\n",
    "sec = \"60\" #time limit\n",
    "\n",
    "#not used\n",
    "vtr = \"123\" #value to reach (unsure if we should use or not)\n",
    "dim = \"3\" #number of parameters"
   ]
  },
  {
   "cell_type": "markdown",
   "metadata": {},
   "source": [
    "### Run algorithm (duurt ffkes)"
   ]
  },
  {
   "cell_type": "code",
   "execution_count": 12,
   "metadata": {},
   "outputs": [
    {
     "name": "stdout",
     "output_type": "stream",
     "text": [
      "['./mamalgam' '-s' '-e' '-v' '35' '3' '-5' '5' '100' '1000' '9' '10000'\n",
      " '60' '123' '1234' './']\n"
     ]
    }
   ],
   "source": [
    "print(command)"
   ]
  },
  {
   "cell_type": "code",
   "execution_count": 13,
   "metadata": {
    "scrolled": true
   },
   "outputs": [
    {
     "data": {
      "text/plain": [
       "CompletedProcess(args=array(['./mamalgam', '-s', '-v', '35', '3', '-5', '5', '100', '1000', '9',\n",
       "       '10000', '60', '123', '1234', './'], dtype='<U10'), returncode=-6)"
      ]
     },
     "execution_count": 13,
     "metadata": {},
     "output_type": "execute_result"
    }
   ],
   "source": [
    "command = np.array([algo, \"-s\", \"-v\", pro, dim, low, upp, pop, ela, apprs, eva, sec, vtr, rnd, wrp])\n",
    "\n",
    "subprocess.run(command)\n"
   ]
  },
  {
   "cell_type": "markdown",
   "metadata": {},
   "source": [
    "### Process data and show plots"
   ]
  },
  {
   "cell_type": "code",
   "execution_count": 27,
   "metadata": {
    "scrolled": true
   },
   "outputs": [
    {
     "data": {
      "text/html": [
       "<div>\n",
       "<style scoped>\n",
       "    .dataframe tbody tr th:only-of-type {\n",
       "        vertical-align: middle;\n",
       "    }\n",
       "\n",
       "    .dataframe tbody tr th {\n",
       "        vertical-align: top;\n",
       "    }\n",
       "\n",
       "    .dataframe thead th {\n",
       "        text-align: right;\n",
       "    }\n",
       "</style>\n",
       "<table border=\"1\" class=\"dataframe\">\n",
       "  <thead>\n",
       "    <tr style=\"text-align: right;\">\n",
       "      <th></th>\n",
       "      <th>Gen</th>\n",
       "      <th>Evals</th>\n",
       "      <th>Time</th>\n",
       "      <th>Best-f</th>\n",
       "      <th>Best-constr</th>\n",
       "      <th>Average-obj</th>\n",
       "      <th>Std-obj</th>\n",
       "      <th>Avg-constr</th>\n",
       "      <th>Std-constr</th>\n",
       "      <th>Best-HV</th>\n",
       "      <th>Best-IGD</th>\n",
       "      <th>Best-GD</th>\n",
       "      <th>size</th>\n",
       "      <th>Archive-HV</th>\n",
       "      <th>Archive-IGD</th>\n",
       "      <th>Archive-GD</th>\n",
       "      <th>size.1</th>\n",
       "      <th>MO-evals</th>\n",
       "    </tr>\n",
       "  </thead>\n",
       "  <tbody>\n",
       "    <tr>\n",
       "      <th>0</th>\n",
       "      <td>0</td>\n",
       "      <td>100</td>\n",
       "      <td>0.003162</td>\n",
       "      <td>-2338.918834</td>\n",
       "      <td>0.0</td>\n",
       "      <td>-1529.0</td>\n",
       "      <td>0.23630</td>\n",
       "      <td>0.0</td>\n",
       "      <td>0.0</td>\n",
       "      <td>2441.977127</td>\n",
       "      <td>0.0</td>\n",
       "      <td>0.0</td>\n",
       "      <td>5</td>\n",
       "      <td>2483.636149</td>\n",
       "      <td>0.0</td>\n",
       "      <td>0.0</td>\n",
       "      <td>37</td>\n",
       "      <td>1500</td>\n",
       "    </tr>\n",
       "    <tr>\n",
       "      <th>1</th>\n",
       "      <td>1</td>\n",
       "      <td>199</td>\n",
       "      <td>0.025670</td>\n",
       "      <td>-2503.904087</td>\n",
       "      <td>0.0</td>\n",
       "      <td>-2093.0</td>\n",
       "      <td>0.07804</td>\n",
       "      <td>0.0</td>\n",
       "      <td>0.0</td>\n",
       "      <td>2563.189829</td>\n",
       "      <td>0.0</td>\n",
       "      <td>0.0</td>\n",
       "      <td>5</td>\n",
       "      <td>2673.728803</td>\n",
       "      <td>0.0</td>\n",
       "      <td>0.0</td>\n",
       "      <td>57</td>\n",
       "      <td>2985</td>\n",
       "    </tr>\n",
       "    <tr>\n",
       "      <th>2</th>\n",
       "      <td>2</td>\n",
       "      <td>315</td>\n",
       "      <td>0.043780</td>\n",
       "      <td>-2570.951254</td>\n",
       "      <td>0.0</td>\n",
       "      <td>-2175.0</td>\n",
       "      <td>0.06973</td>\n",
       "      <td>0.0</td>\n",
       "      <td>0.0</td>\n",
       "      <td>2575.811167</td>\n",
       "      <td>0.0</td>\n",
       "      <td>0.0</td>\n",
       "      <td>7</td>\n",
       "      <td>2680.972675</td>\n",
       "      <td>0.0</td>\n",
       "      <td>0.0</td>\n",
       "      <td>87</td>\n",
       "      <td>4725</td>\n",
       "    </tr>\n",
       "    <tr>\n",
       "      <th>3</th>\n",
       "      <td>3</td>\n",
       "      <td>431</td>\n",
       "      <td>0.061690</td>\n",
       "      <td>-2594.012614</td>\n",
       "      <td>0.0</td>\n",
       "      <td>-2206.0</td>\n",
       "      <td>0.06790</td>\n",
       "      <td>0.0</td>\n",
       "      <td>0.0</td>\n",
       "      <td>2596.475793</td>\n",
       "      <td>0.0</td>\n",
       "      <td>0.0</td>\n",
       "      <td>8</td>\n",
       "      <td>2685.538663</td>\n",
       "      <td>0.0</td>\n",
       "      <td>0.0</td>\n",
       "      <td>120</td>\n",
       "      <td>6465</td>\n",
       "    </tr>\n",
       "    <tr>\n",
       "      <th>4</th>\n",
       "      <td>4</td>\n",
       "      <td>547</td>\n",
       "      <td>0.080130</td>\n",
       "      <td>-2638.099487</td>\n",
       "      <td>0.0</td>\n",
       "      <td>-2278.0</td>\n",
       "      <td>0.06201</td>\n",
       "      <td>0.0</td>\n",
       "      <td>0.0</td>\n",
       "      <td>2641.145679</td>\n",
       "      <td>0.0</td>\n",
       "      <td>0.0</td>\n",
       "      <td>9</td>\n",
       "      <td>2687.345230</td>\n",
       "      <td>0.0</td>\n",
       "      <td>0.0</td>\n",
       "      <td>154</td>\n",
       "      <td>8205</td>\n",
       "    </tr>\n",
       "  </tbody>\n",
       "</table>\n",
       "</div>"
      ],
      "text/plain": [
       "   Gen  Evals      Time       Best-f  Best-constr  Average-obj  Std-obj  \\\n",
       "0    0    100  0.003162 -2338.918834          0.0      -1529.0  0.23630   \n",
       "1    1    199  0.025670 -2503.904087          0.0      -2093.0  0.07804   \n",
       "2    2    315  0.043780 -2570.951254          0.0      -2175.0  0.06973   \n",
       "3    3    431  0.061690 -2594.012614          0.0      -2206.0  0.06790   \n",
       "4    4    547  0.080130 -2638.099487          0.0      -2278.0  0.06201   \n",
       "\n",
       "   Avg-constr  Std-constr      Best-HV  Best-IGD  Best-GD  size   Archive-HV  \\\n",
       "0         0.0         0.0  2441.977127       0.0      0.0     5  2483.636149   \n",
       "1         0.0         0.0  2563.189829       0.0      0.0     5  2673.728803   \n",
       "2         0.0         0.0  2575.811167       0.0      0.0     7  2680.972675   \n",
       "3         0.0         0.0  2596.475793       0.0      0.0     8  2685.538663   \n",
       "4         0.0         0.0  2641.145679       0.0      0.0     9  2687.345230   \n",
       "\n",
       "   Archive-IGD  Archive-GD  size.1  MO-evals  \n",
       "0          0.0         0.0      37      1500  \n",
       "1          0.0         0.0      57      2985  \n",
       "2          0.0         0.0      87      4725  \n",
       "3          0.0         0.0     120      6465  \n",
       "4          0.0         0.0     154      8205  "
      ]
     },
     "execution_count": 27,
     "metadata": {},
     "output_type": "execute_result"
    }
   ],
   "source": [
    "# path to statistics file\n",
    "path1 = \"\".join(\"./statistics_UVHGOMEA_lmod\" + lmod + \"_problem\" \n",
    "+ pro + \"_p\" + ssize + \"_run\" + rnd + \".dat\")\n",
    "\n",
    "#path to pareto front file\n",
    "path2 = \"\".join(\"./best_final_UVHGOMEA_lmod\" + lmod + \"_problem\" + pro\n",
    "+ \"_p\" + ssize + \"_run\" + rnd + \".dat\")\n",
    "\n",
    "df = pd.read_csv(path1, delim_whitespace=True)\n",
    "data = np.genfromtxt(path2, delimiter='')\n",
    "\n",
    "#print(data)\n",
    "df.head()\n"
   ]
  },
  {
   "cell_type": "code",
   "execution_count": 28,
   "metadata": {
    "scrolled": true
   },
   "outputs": [
    {
     "data": {
      "text/plain": [
       "[<matplotlib.lines.Line2D at 0x7fd82a2268e0>]"
      ]
     },
     "execution_count": 28,
     "metadata": {},
     "output_type": "execute_result"
    },
    {
     "data": {
      "image/png": "[encoded data removed]",
      "text/plain": [
       "<Figure size 432x288 with 1 Axes>"
      ]
     },
     "metadata": {
      "needs_background": "light"
     },
     "output_type": "display_data"
    }
   ],
   "source": [
    "data_conc = np.zeros((len(data[:,0]),2))\n",
    "data_conc[:,0] = data[:,0]\n",
    "data_conc[:,1] = data[:,1]\n",
    "\n",
    "#print(data_conc)\n",
    "\n",
    "plt.plot(data_conc[:,0],data_conc[:,1],'o')"
   ]
  },
  {
   "cell_type": "code",
   "execution_count": 29,
   "metadata": {
    "scrolled": true
   },
   "outputs": [
    {
     "data": {
      "text/plain": [
       "[<matplotlib.lines.Line2D at 0x7fd82a189940>]"
      ]
     },
     "execution_count": 29,
     "metadata": {},
     "output_type": "execute_result"
    },
    {
     "data": {
      "image/png": "[encoded data removed]",
      "text/plain": [
       "<Figure size 432x288 with 1 Axes>"
      ]
     },
     "metadata": {
      "needs_background": "light"
     },
     "output_type": "display_data"
    }
   ],
   "source": [
    "#plt.plot(df.Evals, -1*df['Best-f'])\n",
    "plt.plot(df.Evals, df['Best-HV'])"
   ]
  }
 ],
 "metadata": {
  "kernelspec": {
   "display_name": "Python 3",
   "language": "python",
   "name": "python3"
  },
  "language_info": {
   "codemirror_mode": {
    "name": "ipython",
    "version": 3
   },
   "file_extension": ".py",
   "mimetype": "text/x-python",
   "name": "python",
   "nbconvert_exporter": "python",
   "pygments_lexer": "ipython3",
   "version": "3.8.0"
  }
 },
 "nbformat": 4,
 "nbformat_minor": 4
}
