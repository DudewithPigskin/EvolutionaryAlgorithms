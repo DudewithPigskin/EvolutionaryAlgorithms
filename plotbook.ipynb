{
 "cells": [
  {
   "cell_type": "code",
   "execution_count": 2,
   "metadata": {},
   "outputs": [],
   "source": [
    "import pandas as pd\n",
    "import matplotlib.pyplot as plt\n",
    "import numpy as np\n",
    "import subprocess"
   ]
  },
  {
   "cell_type": "markdown",
   "metadata": {},
   "source": [
    "### Run algorithm"
   ]
  },
  {
   "cell_type": "code",
   "execution_count": 3,
   "metadata": {
    "scrolled": true
   },
   "outputs": [
    {
     "data": {
      "text/plain": [
       "CompletedProcess(args=array(['./uhv_gomea', '-s', '-e', ' -v', '1', '35', '315', '-5', '5',\n",
       "       '100', '1000', '1000000', '60', '120.7876', '1234', './'],\n",
       "      dtype='<U11'), returncode=0)"
      ]
     },
     "execution_count": 3,
     "metadata": {},
     "output_type": "execute_result"
    }
   ],
   "source": [
    "command = np.array([\"./uhv_gomea\", \"-s\", \"-e\", \" -v\", \"1\", \"35\", \"3\" \"15\", \"-5\",\n",
    "       \"5\", \"100\", \"1000\", \"1000000\", \"60\", \"120.7876\", \"1234\",  \"./\"])\n",
    "  \n",
    "subprocess.run(command)\n"
   ]
  },
  {
   "cell_type": "markdown",
   "metadata": {},
   "source": [
    "### Process data and show plots"
   ]
  },
  {
   "cell_type": "code",
   "execution_count": 5,
   "metadata": {
    "scrolled": true
   },
   "outputs": [
    {
     "name": "stdout",
     "output_type": "stream",
     "text": [
      "[[1.84803e+02 8.13088e+01 0.00000e+00 0.00000e+00 0.00000e+00 0.00000e+00\n",
      "  0.00000e+00 0.00000e+00 0.00000e+00 0.00000e+00 0.00000e+00 0.00000e+00\n",
      "  9.01714e+00 1.59888e+00 3.27202e-01]\n",
      " [1.84698e+02 1.02905e+02 0.00000e+00 0.00000e+00 0.00000e+00 0.00000e+00\n",
      "  0.00000e+00 0.00000e+00 0.00000e+00 0.00000e+00 0.00000e+00 0.00000e+00\n",
      "  1.01442e+01 1.59219e+00 2.96362e-01]\n",
      " [1.95006e+02 1.11653e-01 0.00000e+00 0.00000e+00 0.00000e+00 0.00000e+00\n",
      "  0.00000e+00 0.00000e+00 0.00000e+00 0.00000e+00 0.00000e+00 0.00000e+00\n",
      "  3.34145e-01 1.58368e+00 8.77217e-01]\n",
      " [1.85617e+02 4.50657e+01 0.00000e+00 0.00000e+00 0.00000e+00 0.00000e+00\n",
      "  0.00000e+00 0.00000e+00 0.00000e+00 0.00000e+00 0.00000e+00 0.00000e+00\n",
      "  6.71310e+00 1.62749e+00 4.19366e-01]\n",
      " [1.92919e+02 1.32204e+00 0.00000e+00 0.00000e+00 0.00000e+00 0.00000e+00\n",
      "  0.00000e+00 0.00000e+00 0.00000e+00 0.00000e+00 0.00000e+00 0.00000e+00\n",
      "  1.14980e+00 1.60357e+00 8.36405e-01]\n",
      " [1.85278e+02 5.47803e+01 0.00000e+00 0.00000e+00 0.00000e+00 0.00000e+00\n",
      "  0.00000e+00 0.00000e+00 0.00000e+00 0.00000e+00 0.00000e+00 0.00000e+00\n",
      "  7.40137e+00 1.61679e+00 3.84793e-01]\n",
      " [1.85004e+02 6.64694e+01 0.00000e+00 0.00000e+00 0.00000e+00 0.00000e+00\n",
      "  0.00000e+00 0.00000e+00 0.00000e+00 0.00000e+00 0.00000e+00 0.00000e+00\n",
      "  8.15288e+00 1.60723e+00 3.55161e-01]\n",
      " [1.89218e+02 9.32945e+00 0.00000e+00 0.00000e+00 0.00000e+00 0.00000e+00\n",
      "  0.00000e+00 0.00000e+00 0.00000e+00 0.00000e+00 0.00000e+00 0.00000e+00\n",
      "  3.05442e+00 1.64748e+00 7.32381e-01]\n",
      " [1.87029e+02 2.32911e+01 0.00000e+00 0.00000e+00 0.00000e+00 0.00000e+00\n",
      "  0.00000e+00 0.00000e+00 0.00000e+00 0.00000e+00 0.00000e+00 0.00000e+00\n",
      "  4.82608e+00 1.66406e+00 5.93302e-01]\n",
      " [1.90215e+02 6.03192e+00 0.00000e+00 0.00000e+00 0.00000e+00 0.00000e+00\n",
      "  0.00000e+00 0.00000e+00 0.00000e+00 0.00000e+00 0.00000e+00 0.00000e+00\n",
      "  2.45600e+00 1.63466e+00 7.67415e-01]\n",
      " [1.88373e+02 1.32649e+01 0.00000e+00 0.00000e+00 0.00000e+00 0.00000e+00\n",
      "  0.00000e+00 0.00000e+00 0.00000e+00 0.00000e+00 0.00000e+00 0.00000e+00\n",
      "  3.64210e+00 1.65797e+00 6.94039e-01]\n",
      " [1.86490e+02 2.95551e+01 0.00000e+00 0.00000e+00 0.00000e+00 0.00000e+00\n",
      "  0.00000e+00 0.00000e+00 0.00000e+00 0.00000e+00 0.00000e+00 0.00000e+00\n",
      "  5.43646e+00 1.65391e+00 5.25073e-01]\n",
      " [1.91416e+02 3.35207e+00 0.00000e+00 0.00000e+00 0.00000e+00 0.00000e+00\n",
      "  0.00000e+00 0.00000e+00 0.00000e+00 0.00000e+00 0.00000e+00 0.00000e+00\n",
      "  1.83087e+00 1.62010e+00 8.01373e-01]\n",
      " [1.87650e+02 1.78918e+01 0.00000e+00 0.00000e+00 0.00000e+00 0.00000e+00\n",
      "  0.00000e+00 0.00000e+00 0.00000e+00 0.00000e+00 0.00000e+00 0.00000e+00\n",
      "  4.22987e+00 1.66449e+00 6.49282e-01]\n",
      " [1.86021e+02 3.67633e+01 0.00000e+00 0.00000e+00 0.00000e+00 0.00000e+00\n",
      "  0.00000e+00 0.00000e+00 0.00000e+00 0.00000e+00 0.00000e+00 0.00000e+00\n",
      "  6.06327e+00 1.63979e+00 4.63904e-01]]\n"
     ]
    },
    {
     "data": {
      "text/html": [
       "<div>\n",
       "<style scoped>\n",
       "    .dataframe tbody tr th:only-of-type {\n",
       "        vertical-align: middle;\n",
       "    }\n",
       "\n",
       "    .dataframe tbody tr th {\n",
       "        vertical-align: top;\n",
       "    }\n",
       "\n",
       "    .dataframe thead th {\n",
       "        text-align: right;\n",
       "    }\n",
       "</style>\n",
       "<table border=\"1\" class=\"dataframe\">\n",
       "  <thead>\n",
       "    <tr style=\"text-align: right;\">\n",
       "      <th></th>\n",
       "      <th>Gen</th>\n",
       "      <th>Evals</th>\n",
       "      <th>Time</th>\n",
       "      <th>Best-f</th>\n",
       "      <th>Best-constr</th>\n",
       "      <th>Average-obj</th>\n",
       "      <th>Std-obj</th>\n",
       "      <th>Avg-constr</th>\n",
       "      <th>Std-constr</th>\n",
       "      <th>Best-HV</th>\n",
       "      <th>Best-IGD</th>\n",
       "      <th>Best-GD</th>\n",
       "      <th>size</th>\n",
       "      <th>Archive-HV</th>\n",
       "      <th>Archive-IGD</th>\n",
       "      <th>Archive-GD</th>\n",
       "      <th>size.1</th>\n",
       "      <th>MO-evals</th>\n",
       "    </tr>\n",
       "  </thead>\n",
       "  <tbody>\n",
       "    <tr>\n",
       "      <th>0</th>\n",
       "      <td>0</td>\n",
       "      <td>100</td>\n",
       "      <td>0.01045</td>\n",
       "      <td>-2338.918834</td>\n",
       "      <td>0.0</td>\n",
       "      <td>-1529.0</td>\n",
       "      <td>0.23630</td>\n",
       "      <td>0.0</td>\n",
       "      <td>0.0</td>\n",
       "      <td>2441.977127</td>\n",
       "      <td>0.0</td>\n",
       "      <td>0.0</td>\n",
       "      <td>5</td>\n",
       "      <td>2483.636149</td>\n",
       "      <td>0.0</td>\n",
       "      <td>0.0</td>\n",
       "      <td>37</td>\n",
       "      <td>1500</td>\n",
       "    </tr>\n",
       "    <tr>\n",
       "      <th>1</th>\n",
       "      <td>1</td>\n",
       "      <td>509</td>\n",
       "      <td>0.04765</td>\n",
       "      <td>-2613.909629</td>\n",
       "      <td>0.0</td>\n",
       "      <td>-2244.0</td>\n",
       "      <td>0.06702</td>\n",
       "      <td>0.0</td>\n",
       "      <td>0.0</td>\n",
       "      <td>2637.806645</td>\n",
       "      <td>0.0</td>\n",
       "      <td>0.0</td>\n",
       "      <td>7</td>\n",
       "      <td>2734.455721</td>\n",
       "      <td>0.0</td>\n",
       "      <td>0.0</td>\n",
       "      <td>125</td>\n",
       "      <td>7638</td>\n",
       "    </tr>\n",
       "    <tr>\n",
       "      <th>2</th>\n",
       "      <td>2</td>\n",
       "      <td>988</td>\n",
       "      <td>0.08784</td>\n",
       "      <td>-2684.989476</td>\n",
       "      <td>0.0</td>\n",
       "      <td>-2537.0</td>\n",
       "      <td>0.02845</td>\n",
       "      <td>0.0</td>\n",
       "      <td>0.0</td>\n",
       "      <td>2692.002489</td>\n",
       "      <td>0.0</td>\n",
       "      <td>0.0</td>\n",
       "      <td>10</td>\n",
       "      <td>2743.969623</td>\n",
       "      <td>0.0</td>\n",
       "      <td>0.0</td>\n",
       "      <td>271</td>\n",
       "      <td>14823</td>\n",
       "    </tr>\n",
       "    <tr>\n",
       "      <th>3</th>\n",
       "      <td>3</td>\n",
       "      <td>1454</td>\n",
       "      <td>0.13080</td>\n",
       "      <td>-2719.350741</td>\n",
       "      <td>0.0</td>\n",
       "      <td>-2621.0</td>\n",
       "      <td>0.02201</td>\n",
       "      <td>0.0</td>\n",
       "      <td>0.0</td>\n",
       "      <td>2720.603478</td>\n",
       "      <td>0.0</td>\n",
       "      <td>0.0</td>\n",
       "      <td>10</td>\n",
       "      <td>2780.254951</td>\n",
       "      <td>0.0</td>\n",
       "      <td>0.0</td>\n",
       "      <td>401</td>\n",
       "      <td>21810</td>\n",
       "    </tr>\n",
       "    <tr>\n",
       "      <th>4</th>\n",
       "      <td>4</td>\n",
       "      <td>1920</td>\n",
       "      <td>0.17810</td>\n",
       "      <td>-2773.669411</td>\n",
       "      <td>0.0</td>\n",
       "      <td>-2712.0</td>\n",
       "      <td>0.01533</td>\n",
       "      <td>0.0</td>\n",
       "      <td>0.0</td>\n",
       "      <td>2773.884687</td>\n",
       "      <td>0.0</td>\n",
       "      <td>0.0</td>\n",
       "      <td>13</td>\n",
       "      <td>2844.126170</td>\n",
       "      <td>0.0</td>\n",
       "      <td>0.0</td>\n",
       "      <td>563</td>\n",
       "      <td>28797</td>\n",
       "    </tr>\n",
       "  </tbody>\n",
       "</table>\n",
       "</div>"
      ],
      "text/plain": [
       "   Gen  Evals     Time       Best-f  Best-constr  Average-obj  Std-obj  \\\n",
       "0    0    100  0.01045 -2338.918834          0.0      -1529.0  0.23630   \n",
       "1    1    509  0.04765 -2613.909629          0.0      -2244.0  0.06702   \n",
       "2    2    988  0.08784 -2684.989476          0.0      -2537.0  0.02845   \n",
       "3    3   1454  0.13080 -2719.350741          0.0      -2621.0  0.02201   \n",
       "4    4   1920  0.17810 -2773.669411          0.0      -2712.0  0.01533   \n",
       "\n",
       "   Avg-constr  Std-constr      Best-HV  Best-IGD  Best-GD  size   Archive-HV  \\\n",
       "0         0.0         0.0  2441.977127       0.0      0.0     5  2483.636149   \n",
       "1         0.0         0.0  2637.806645       0.0      0.0     7  2734.455721   \n",
       "2         0.0         0.0  2692.002489       0.0      0.0    10  2743.969623   \n",
       "3         0.0         0.0  2720.603478       0.0      0.0    10  2780.254951   \n",
       "4         0.0         0.0  2773.884687       0.0      0.0    13  2844.126170   \n",
       "\n",
       "   Archive-IGD  Archive-GD  size.1  MO-evals  \n",
       "0          0.0         0.0      37      1500  \n",
       "1          0.0         0.0     125      7638  \n",
       "2          0.0         0.0     271     14823  \n",
       "3          0.0         0.0     401     21810  \n",
       "4          0.0         0.0     563     28797  "
      ]
     },
     "execution_count": 5,
     "metadata": {},
     "output_type": "execute_result"
    }
   ],
   "source": [
    "# path to statistics file\n",
    "path1 = \"./statistics_UVHGOMEA_lmod1_problem35_p15_run1234.dat\"\n",
    "\n",
    "#path to pareto front file\n",
    "path2 = \"./best_final_UVHGOMEA_lmod1_problem35_p15_run1234.dat\"\n",
    "\n",
    "\n",
    "df = pd.read_csv(path1, delim_whitespace=True)\n",
    "data = np.genfromtxt(path2, delimiter='')\n",
    "\n",
    "print(data)\n",
    "df.head()\n"
   ]
  },
  {
   "cell_type": "code",
   "execution_count": 6,
   "metadata": {
    "scrolled": true
   },
   "outputs": [
    {
     "name": "stdout",
     "output_type": "stream",
     "text": [
      "[[1.84803e+02 8.13088e+01]\n",
      " [1.84698e+02 1.02905e+02]\n",
      " [1.95006e+02 1.11653e-01]\n",
      " [1.85617e+02 4.50657e+01]\n",
      " [1.92919e+02 1.32204e+00]\n",
      " [1.85278e+02 5.47803e+01]\n",
      " [1.85004e+02 6.64694e+01]\n",
      " [1.89218e+02 9.32945e+00]\n",
      " [1.87029e+02 2.32911e+01]\n",
      " [1.90215e+02 6.03192e+00]\n",
      " [1.88373e+02 1.32649e+01]\n",
      " [1.86490e+02 2.95551e+01]\n",
      " [1.91416e+02 3.35207e+00]\n",
      " [1.87650e+02 1.78918e+01]\n",
      " [1.86021e+02 3.67633e+01]]\n"
     ]
    },
    {
     "data": {
      "text/plain": [
       "[<matplotlib.lines.Line2D at 0x7f46b4223730>]"
      ]
     },
     "execution_count": 6,
     "metadata": {},
     "output_type": "execute_result"
    },
    {
     "data": {
      "image/png": "[encoded data removed]",
      "text/plain": [
       "<Figure size 432x288 with 1 Axes>"
      ]
     },
     "metadata": {
      "needs_background": "light"
     },
     "output_type": "display_data"
    }
   ],
   "source": [
    "data_conc = np.zeros((len(data[:,0]),2))\n",
    "data_conc[:,0] = data[:,0]\n",
    "data_conc[:,1] = data[:,1]\n",
    "\n",
    "print(data_conc)\n",
    "\n",
    "plt.plot(data_conc[:,0],data_conc[:,1],'o')"
   ]
  },
  {
   "cell_type": "code",
   "execution_count": 8,
   "metadata": {
    "scrolled": false
   },
   "outputs": [
    {
     "data": {
      "text/plain": [
       "[<matplotlib.lines.Line2D at 0x7f46dd3c7190>]"
      ]
     },
     "execution_count": 8,
     "metadata": {},
     "output_type": "execute_result"
    },
    {
     "data": {
      "image/png": "[encoded data removed]",
      "text/plain": [
       "<Figure size 432x288 with 1 Axes>"
      ]
     },
     "metadata": {
      "needs_background": "light"
     },
     "output_type": "display_data"
    }
   ],
   "source": [
    "plt.plot(df.Evals, df['Best-f'])"
   ]
  }
 ],
 "metadata": {
  "kernelspec": {
   "display_name": "Python 3",
   "language": "python",
   "name": "python3"
  },
  "language_info": {
   "codemirror_mode": {
    "name": "ipython",
    "version": 3
   },
   "file_extension": ".py",
   "mimetype": "text/x-python",
   "name": "python",
   "nbconvert_exporter": "python",
   "pygments_lexer": "ipython3",
   "version": "3.8.0"
  }
 },
 "nbformat": 4,
 "nbformat_minor": 4
}
