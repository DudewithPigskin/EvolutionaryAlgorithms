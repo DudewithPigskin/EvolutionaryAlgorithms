{
 "cells": [
  {
   "cell_type": "code",
   "execution_count": 1,
   "metadata": {},
   "outputs": [],
   "source": [
    "import pandas as pd\n",
    "import matplotlib.pyplot as plt\n",
    "import numpy as np\n",
    "import subprocess"
   ]
  },
  {
   "cell_type": "markdown",
   "metadata": {},
   "source": [
    "### Settings"
   ]
  },
  {
   "cell_type": "code",
   "execution_count": 55,
   "metadata": {},
   "outputs": [],
   "source": [
    "#stuff to play with\n",
    "lmod = \"1\" #linkage model : 0 = LM, 1 = LT, 2 LF\n",
    "\n",
    "#(almost) set in stone\n",
    "algo = \"./uhv_gomea\" #which executable to use\n",
    "pro = \"35\" #problem index\n",
    "rnd = \"1234\" #random seed\n",
    "wrp = \"./\"\n",
    "\n",
    "# to keep in line with the others\n",
    "ssize = \"100\" #solution set size\n",
    "low = \"-1000\" #lower init bound\n",
    "upp = \"1000\" #upper init bound\n",
    "pop = \"1000\" #population size\n",
    "ela = \"1000\" #elitist archive size target\n",
    "eva = \"100000000\" #maximum number of MO evaluations\n",
    "sec = \"3600\" #time limit\n",
    "K = 10\n",
    "\n",
    "#not used\n",
    "vtr = \"123\" #value to reach (unsure if we should use or not)\n",
    "dim = str(3 * K) #number of parameters"
   ]
  },
  {
   "cell_type": "markdown",
   "metadata": {},
   "source": [
    "### Run algorithm (duurt ffkes)"
   ]
  },
  {
   "cell_type": "code",
   "execution_count": 53,
   "metadata": {
    "scrolled": true
   },
   "outputs": [
    {
     "data": {
      "text/plain": [
       "CompletedProcess(args=array(['./uhv_gomea', '-s', '-e', '-v', '1', '35', '30', '50', '-1000',\n",
       "       '1000', '100', '1000', '10000000', '360', '123', '1234', './'],\n",
       "      dtype='<U11'), returncode=0, stdout=b'-0.552959 -0.3438 -0.315278 -0.427625 -0.35078 -0.549472 0.115988 -0.38296 0.0784244 -0.50815 -2.75713 -4.75772 -18.1433 -2.72391 -2.73111 -2.75813 -968.423 -2.2943 -543.637 -2.79049 1.17241 -7.84895 -811.666 -1.48283 -1.11324 -1.28014 118.91 1.37167 -3.74852 -1.1254 TEST:\\n156.661\\n0.155567\\nProblem settings:\\n\\tfunction_name = RadReg\\n\\tproblem_index = 35\\n\\tmo_number_of_parameters = 30\\n\\tinit_range = [-1000, 1000]\\n\\tHV reference point = 200, 200\\nRun settings:\\n\\tmax_number_of_MO_evaluations = 10000000\\n\\tmaximum_number_of_seconds = 360\\n\\tuse_vtr = 0\\n\\tvtr = 123\\nArchive settings:\\n\\tCollect all MO-sol in archive = yes\\n\\tElitist_archive_target_size = 1000\\n\\tApproximation_set_size = 1000\\nOptimizer settings: \\n\\tSOHV\\n\\tlocal_optimizer_index = 66\\n\\ttest_points = 50\\n\\tnumber_of_reference_points = 50\\n\\tso_number_of_parameters = 1500\\n\\tuse_finite_differences = no\\n\\tpopsize = 100\\n\\tenable_niching = no\\n\\trandom_seed = 1234\\nRestart with a popsize of 100, located 1 niche(s).\\n  Terminated core search algorithm because time limit reached\\n  Of 1 elite candidates, found 1 new optimum.\\nBest: \\n\\tHV = 3179.72051425086283\\n\\tMO-fevals = 2376350\\n\\truntime = 360.35709100000003 sec\\npareto_front0 = [\\n\\t  184.6973 103.4373 \\n\\t  183.8717 18.9481 \\n\\t  184.6965 59.4001 \\n\\t  184.6978 59.3151 \\n\\t  184.6965 98.6218 \\n\\t  184.6968 66.1550 \\n\\t  184.7540 25.9465 \\n\\t  184.6964 138.5859 \\n\\t  184.6965 85.0981 \\n\\t  184.6965 89.6936 \\n\\t  184.6964 127.2681 \\n\\t  184.6964 118.3000 \\n\\t  184.6966 87.2512 \\n\\t  184.6975 57.4159 \\n\\t  184.6966 94.6375 \\n\\t  184.6968 61.7674 \\n\\t  184.6965 98.9152 \\n\\t  184.6963 154.6335 \\n\\t  184.6966 80.8808 \\n\\t  184.6964 142.5571 \\n\\t  184.6964 123.4336 \\n\\t  184.6964 95.5937 \\n\\t  184.6966 84.1972 \\n\\t  184.6972 64.3556 \\n\\t  184.6964 100.2994 \\n\\t  184.6971 77.7701 \\n\\t  184.6980 45.8779 \\n\\t  184.6963 166.6308 \\n\\t  184.6963 137.2073 \\n\\t  184.7304 29.4811 \\n\\t  184.7021 38.9262 \\n\\t  184.7161 31.6747 \\n\\t  184.6965 91.3225 \\n\\t  184.6968 60.3254 \\n\\t  184.6965 108.6738 \\n\\t  184.6979 59.8662 \\n\\t  184.6963 136.4470 \\n\\t  184.6974 55.4657 \\n\\t  184.6964 121.6219 \\n\\t  184.6968 69.9586 \\n\\t  184.6966 95.7725 \\n\\t  184.6969 61.4578 \\n\\t  184.7086 37.8662 \\n\\t  184.8690 13.1980 \\n\\t  184.6969 59.4876 \\n\\t  185.3558 1.3774 \\n\\t  184.7012 37.6883 \\n\\t  184.6987 39.0923 \\n\\t  185.1445 12.2895 \\n\\t  184.7073 34.3225  ];\\npareto_set0 = [\\n\\t    7.4604     9.8538     8.5379    11.4828    10.2282    11.7943     9.8136    10.0236    10.2071    11.4971    11.4350    14.2435    11.4025    13.9459     1.5900    10.6054    10.6096    10.4174     7.3656    12.6749     2.2148     2.5505     2.0704     2.4540     0.2943     2.0651     1.9060     1.3218     1.1421     2.4498 \\n\\t    5.5260     2.5976     7.7874     3.5351     2.4358     3.3001     1.1727     3.1022     3.9215     5.9879     8.5680    13.4918     0.4537     6.4373     8.3218    14.4517     9.4554     7.2911     8.9227     1.8063     2.7049     4.0251     0.0869     1.3268     2.7659     3.4849     2.9136     2.5203     2.2422     0.6696 \\n\\t    5.1849     7.8787     6.7314    10.1879    10.3208     5.6512     4.2927     4.5077    10.0907     8.7701    11.0615    12.7632    10.0245     9.3592     1.5921    13.7041    12.3626     9.8026    14.2565    11.5554     2.3742     2.5657     1.7182     1.3465     0.2910     2.6778     2.3474     1.4446     2.5352     2.0219 \\n\\t    6.6471     6.1041     6.3689     8.6641    10.2694     2.6370     8.0210     6.4754     8.8838     9.9234    14.0261    12.7986    14.1338    12.7114     1.5895    12.9647    12.3116    10.6410    13.7417     9.8696     2.9860     2.8164     3.0434     2.3955     0.2915     2.4669     2.3823     2.1348     2.9225     2.0309 \\n\\t   12.9432     5.4933     5.4683    12.8112    10.3391    10.1687    13.3400     9.5816     8.2073     6.8602    15.1398     9.2453    12.3777    13.1449     1.5923    14.3959    10.2544    12.1660    12.3885    10.7282     2.9048     1.2744     2.3343     2.0813     0.2911     2.8535     1.2165     1.8487     2.4095     2.1750 \\n\\t    4.8007     7.6640     7.2233    10.3731    10.3458     6.6481     6.8534     6.1700     8.7170    10.3795     9.9115    13.3735     7.5142    11.8307     1.5928    15.4567    10.4019    10.8466    11.4953     8.8519     2.0116     2.6281     1.0853     1.8777     0.2893     3.0164     1.6634     1.5573     2.0929     1.3527 \\n\\t    2.8607     2.2704     6.0987     5.7863     9.8801     2.9239     2.2631     4.8793     5.4161     3.3201    11.3659    13.2845     7.1122    10.2606     1.5787    14.7357    10.8716    11.6624     8.4582     9.7573     2.7385     3.3444     1.7588     2.7623     0.2790     3.1572     2.8178     2.2738     1.9082     2.3078 \\n\\t   10.9863     9.0076     9.5234    12.1009    10.3450    14.1267    13.8330    10.5580    12.6346    13.3363    10.7710    14.9266    11.4091    14.3970     1.5918    12.9942    11.2130    12.6848    11.4992    13.2941     1.7383     2.9934     1.8502     2.5364     0.2916     2.4393     1.7477     2.2448     2.2110     2.3821 \\n\\t    9.0242     6.2911     7.4349     9.1847    10.3605     6.7300     7.8733     7.1290     7.1060    16.5648    13.4031    14.7596    12.0138     9.5147     1.5903    13.6259    11.2246     8.1557    14.6777    10.3787     2.7419     2.7833     2.2757     1.5830     0.2912     2.6020     1.6953     0.9348     3.0047     1.5723 \\n\\t   10.5766     5.8567     6.2078    10.3052    10.2958     8.9900     8.1876     8.2481    10.9638    12.8039    12.7543    12.4524     9.5501    12.7228     1.5921    16.1868    10.5955    10.6369    13.5498     7.5561     2.4788     2.4724     1.7739     1.9432     0.2926     3.3327     1.8306     1.5544     2.6172     0.9005 \\n\\t   11.7118    11.4903    10.7365    12.7425    10.3474    10.5875    10.9781    11.2731    10.7285    11.9991    11.5514    11.7269    12.6546    14.1038     1.5924    15.2061    10.3505    13.6328     9.9503    13.3392     1.9680     1.9145     2.2666     2.2134     0.2912     2.9502     1.9524     2.2987     1.6816     2.5740 \\n\\t   13.9361     5.7898     7.4510    11.6383    10.3210    11.1346     8.2173     8.0580    16.9504    10.6781    11.4821    10.4813    11.4760    13.6600     1.5911    13.9047     8.4568    12.9482    15.0991    10.5397     1.7800     1.9865     2.0408     2.5489     0.2927     2.5047     1.1039     1.4565     2.8834     1.7633 \\n\\t   13.0010     7.2909     6.9410     9.6138    10.2768    10.2321     7.2948     5.7568     9.2837    11.2639     9.8519    15.0462    10.9539    14.6323     1.5919    16.9184    12.0460    10.7247    11.3197    10.6672     1.5400     3.0942     1.9524     2.9689     0.2932     3.2942     2.1894     1.8897     2.0613     1.8821 \\n\\t    7.1292     3.4504     5.3138     7.8759    10.3193     7.9933     5.8649     7.3967     8.7600     9.2161     9.2841    11.1276     7.8173    10.7861     1.5919    12.6152    13.2848    11.5829    11.4420     8.0220     1.6599     2.2058     1.2746     1.7388     0.2883     2.4202     2.7539     2.2898     2.2718     1.3603 \\n\\t    7.9439     1.2039     4.4185    12.1474    10.3888     9.2332     8.6433    10.1635    14.1355    11.9892    14.9699     8.3111     6.8945    11.8087     1.5921    12.5319     5.9482     7.3720    14.3240    12.5320     2.8817     0.9571     0.5908     2.1095     0.2903     2.5690     0.3704     0.2782     2.5578     2.4654 \\n\\t    5.2172     4.7062     8.0840    10.7127    10.3321     7.5298     6.0043     3.4764     8.6900    10.0543     8.8846    13.7306     9.7998    10.5291     1.5897    16.7508    10.5428     8.5558    11.2387     9.6617     1.5096     2.8260     1.6415     1.8162     0.2934     3.3823     1.7600     1.1266     2.1172     1.5977 \\n\\t    7.5211     8.6673     7.1201    13.2856    10.3323    10.1764     9.7741    10.7078    10.1623    10.3190    11.7798    12.5677    11.8179    14.3174     1.5927    12.4084    10.2991     9.2529    11.2576     9.8407     2.0703     2.2972     2.0415     2.4032     0.2901     2.3517     1.2765     1.1268     2.0121     1.6523 \\n\\t   13.1403    10.9708    12.8370    15.6719    10.3406    14.9284     9.8456    13.1992    11.5994    10.3647     9.2394    15.3596    17.1480    17.1835     1.5922    13.0772    11.6021    10.9882    10.7149    11.1560     1.2256     2.2345     3.1340     2.8838     0.2917     2.4368     1.6716     1.6024     1.6889     1.8179 \\n\\t    9.0868     6.6312     5.6869     8.7366    10.2765    11.2658     7.1862     7.2710    10.6932    11.0552     7.8584     8.1632     9.2898    11.9848     1.5917    14.2671     8.5046    13.8509    10.5669     9.4087     0.9854     1.4319     1.0142     2.3992     0.2923     2.5926     1.1287     2.7661     2.0104     1.3909 \\n\\t    8.5833    11.5795     7.3950    15.6576    10.3049    14.3131    10.8409    13.3721    12.1251    12.7889    14.2792    13.5387    10.1144    13.5265     1.5922    11.4681     9.7792    11.5031    10.2596    12.5763     2.5882     2.0364     1.7009     2.1269     0.2921     2.2492     1.3188     1.6145     1.5628     2.2216 \\n\\t    9.6135    11.6997     6.0411    11.4236    10.3360    10.3951    12.2354    10.7898     9.9594    16.0572    13.8900    13.0148    11.6311    13.6784     1.5910    11.7186     9.2335    11.3276    10.4618    12.5142     2.2657     2.0302     2.3264     2.7385     0.2914     1.9819     1.2002     1.2270     1.8700     2.2433 \\n\\t    8.5845     8.7405     6.8887    12.1783    10.3098    12.0439     9.6105     6.7589     9.1493    11.7038    10.7721    13.7168    10.0227    12.7725     1.5918    13.4036     9.4000     9.4960     9.4325     7.7767     2.0498     2.5955     1.8391     2.1398     0.2914     2.5613     1.4092     1.6107     1.5752     1.1530 \\n\\t    8.2020     7.9190     7.9249    10.8583    10.3150    11.1587     8.1045     5.5012    10.4734     9.7327     9.1017    12.8752    12.4903    13.1754     1.5912    14.8966    10.6812     8.7405     9.1482     9.4326     1.6168     2.4903     2.4261     2.8043     0.2913     2.8220     1.6970     1.3753     1.4568     1.5893 \\n\\t    5.7348     7.0450     6.4631     9.6326    10.3911     6.9255     6.4153     5.5990     9.2527    10.6030    12.0088    10.4595    13.4606     8.0064     1.5920    15.3180    12.7036     9.6740    11.9088     6.0800     2.1900     1.8736     2.7218     1.0713     0.2897     3.3602     2.3043     2.1137     2.3710     0.6445 \\n\\t    8.5358    10.7798     8.2547    13.8389    10.3568     9.0185     6.8447     6.6269    11.4147    12.0257    12.2422    11.3620    11.3858    11.7234     1.5919    16.1635    10.7991    12.3319    12.5176     7.6737     2.2962     2.1829     1.9828     1.3841     0.2905     3.2526     1.6294     1.8700     2.2312     1.2433 \\n\\t    7.8368     9.5632     6.2933    10.7094    10.3018     7.1334    10.0428     6.3541     8.3535    10.1245    12.3899    13.5118    10.1990    10.0165     1.5925    12.0591    10.2965    11.7005    10.4277     8.3122     2.5685     2.5040     2.1196     1.7943     0.2910     2.2051     1.6729     2.3104     2.0461     1.6023 \\n\\t    4.9573     2.0459     7.9036     7.2427    10.2539     5.7680     5.3979     7.2566     6.8905     6.8852     9.2183    13.2864     8.1126    11.4784     1.5934    15.4425    11.8030     9.0834    11.0611     7.3472     2.0334     2.7730     1.3055     2.4164     0.2935     3.2585     2.3885     1.5789     2.5042     1.2850 \\n\\t   13.3760    12.6595     8.2011    16.3881    10.3514    16.7419    14.2153     8.7644    11.9921    13.4594    12.9077    15.3826    11.1080    17.8943     1.5920    12.0255    11.8047    11.1393    10.8370     9.7492     2.2299     2.3690     1.9035     3.1324     0.2917     1.8285     1.4662     1.4991     1.7314     1.1741 \\n\\t   12.2264     8.5977     5.3657    15.7828    10.3096    12.2224    15.2039     7.8650    12.7545    12.6259    12.8175    14.1611     7.5308    13.5813     1.5910    10.7170     9.9256    14.6457    12.0618    12.1125     2.0947     2.0716     1.0510     1.9287     0.2927     1.8773     1.2330     2.2880     2.1741     1.9228 \\n\\t    3.4084     3.3642     6.6199     4.8558    10.6905     1.5429     1.2892     4.5346     6.2509     5.1485     6.3505    12.9538    10.6073    10.5019     1.5854    12.3570    11.2674    12.4071     7.0257     8.5050     1.5449     2.9576     1.7054     2.8630     0.2806     2.5390     2.5045     2.7978     1.8844     1.6989 \\n\\t    3.8615     4.0282     3.6466     7.0243    10.4043     3.2659     4.5721     6.5172     7.6167     7.4282    13.2014    14.0047     6.6532     7.1610     1.5939    16.0883     8.1031    12.5262    14.1107     8.2385     3.1285     3.0923     0.9115     1.3865     0.2873     3.7473     1.7279     2.5907     3.3866     1.8690 \\n\\t    2.1745     2.0186     7.0030     5.8538    10.1012     1.3588     3.3622     8.1984     4.1055     5.0379    12.5850    13.3085     6.1927     9.4347     1.5859    12.9113     7.8786    10.6120    10.5310     9.1657     3.4144     3.5857     1.1170     2.1864     0.2865     3.1100     1.8319     1.9939     2.8283     1.9617 \\n\\t    7.1044     8.6081    10.3097    11.7564    10.3416     7.8685    12.1309     7.0542     9.7550     9.1219    10.6324    10.4341    13.3065    12.3702     1.5918    10.4757     9.7523    11.1338    11.9228     6.9078     1.8388     1.6802     2.7658     1.8399     0.2905     2.0312     1.3725     1.9314     2.2716     1.0440 \\n\\t    3.8846     7.6352     7.2908     9.0035    10.3614     7.4369     6.6408     7.9112     7.9996     7.8931     8.2873    12.5596     7.0394     5.7022     1.5915    18.0079    11.0204    11.9643    10.1334    10.0143     1.5656     2.6840     0.9184     0.5613     0.2904     3.8580     1.7942     2.0000     2.0153     1.7466 \\n\\t    8.4294     9.1238    10.4058    13.2191    10.3478     7.7356     9.7787    10.4328    10.5516    12.9112    11.4384    13.9119    10.3170    16.0715     1.5925    14.0205     9.1103    10.9621    11.2764     9.0865     1.9695     2.3143     1.7932     2.9385     0.2901     2.8925     1.2772     1.5620     1.8650     1.3153 \\n\\t    7.2693     7.1720     7.1189     9.0553    10.3489     4.1222     8.8861     6.9541     7.1715     7.6721    11.5177    13.2708    13.1722    11.2019     1.5904    11.0232    12.2420    12.3127    14.0681    10.2110     2.6133     2.9288     2.7554     2.3794     0.2886     2.0905     2.3296     1.9433     2.9760     2.0529 \\n\\t   14.9843    12.6742     5.0508    10.4286    10.3572    12.0783    14.7137     6.8529    14.9325    10.2688    10.4964    12.7963     9.8663    13.1753     1.5919    17.4989     9.7803    10.9523    12.3616    10.2910     1.0388     1.6126     1.6590     2.5299     0.2913     3.4562     0.6566     1.4474     2.0525     1.7015 \\n\\t    6.3793     5.8176     7.7601     9.4905    10.3892     5.6599     5.7929     6.3287     8.0587     7.1629    11.0253    12.7768     7.7253    11.3557     1.5909    13.5786    11.8939     9.0106    12.0849     6.7964     2.2302     2.6789     1.1346     2.0514     0.2885     2.8212     2.2404     1.8756     2.4434     1.2414 \\n\\t    8.2978    11.8079     5.7833    10.5688    10.3004    11.9415    14.1529    11.2622    13.3520    10.4247     6.9592    11.0092     9.7341    17.4630     1.5916    15.5927     9.6701    11.3980     9.4576    10.6352     0.3949     1.2761     1.4424     3.2441     0.2933     3.0201     1.0590     1.5400     1.6798     1.7023 \\n\\t    7.5703     7.1157    11.3965     9.5010    10.2930     5.4273     7.8847     8.4176     7.5014     6.8408    10.7251    15.6257    12.2522    18.0932     1.5916    11.2837    11.6364    12.4736    11.1212    12.6102     2.0994     3.0059     2.0989     3.5711     0.2915     2.4298     2.0710     2.2461     2.2562     2.6415 \\n\\t   12.7773     6.9455     7.9747    12.1883    10.3472    11.1902     7.9109     6.4930     9.5829    10.2576    11.9256     9.9137    14.7188    11.4970     1.5914    15.9611    10.0008     9.6931    12.6837     6.3368     1.9948     1.8928     3.1816     1.7509     0.2912     3.1299     1.3825     1.4462     2.5155     0.9146 \\n\\t    4.3675     7.4340     8.5496     6.8959    10.2808     6.6379     6.7156     6.7207    10.8161     7.9106    11.0734    16.2286     7.9324    13.3089     1.5909    13.6567    10.0015     7.6860    12.2368     7.5563     2.3682     3.4254     1.2251     2.6026     0.2914     2.8330     1.6081     1.0229     2.1384     1.2955 \\n\\t    2.8654     4.0855     5.8877     6.4542    10.0985     2.8108     3.9102     6.0063     8.0040     7.2201    11.1769    13.5914     8.0484     8.5121     1.5844    12.4562    10.3405     9.5001    10.5900     6.9072     2.8421     3.3647     1.5751     1.6839     0.2906     2.7883     2.2540     1.7894     2.2902     1.1900 \\n\\t    2.7460     0.0752     8.2038     1.4798     2.9640     3.7436     4.2149     2.5567     1.2483     2.5064    15.0862    16.0293     1.5854     3.1700    10.2957    11.8423     7.2614     7.6830    16.2104     4.2596     3.7779     5.6272     0.2734     1.1921     2.9729     3.0030     2.0897     2.6448     4.7495     1.4435 \\n\\t    5.0554     4.9543     8.1546     9.3072    10.3163     3.8729     7.4827     6.2095     8.0313    10.5441    10.0637    10.6741    11.5511     9.0918     1.5908    12.7719    11.9330     9.6842    12.7461     7.8437     2.0508     1.8125     1.9310     1.2119     0.2921     2.8955     2.1279     0.9411     2.7988     1.1944 \\n\\t    0.2249     0.3293     1.7454     0.1059     1.9124     0.1351     1.7993     1.8606     0.2257     0.3626     4.6300    11.4546     1.5849    12.0011     1.6825    16.9917     1.6665     1.6260    13.7158    14.9960     1.4957     3.0501     0.4435     1.4178     0.3929     4.8992     0.4672     0.4005     4.8837     1.7863 \\n\\t    4.3508     5.8041     6.0709     6.9583    10.2989     1.3599     3.0009     5.1272     6.9735     6.8667    11.3193    13.5608    11.4112     9.9514     1.5899    13.9858    13.6922     9.2291    10.7647    10.3152     2.6712     3.0543     2.6068     2.1400     0.2905     3.1231     3.2190     1.6182     2.4359     2.6139 \\n\\t    4.5906     4.5240     6.7095     7.2934    10.2352     4.0178     3.3113     5.3824     7.9587     5.1956    11.3919    14.6653     8.8670    10.5157     1.5921    14.3208    10.7770    10.2795    11.4113     8.5378     2.5756     3.3353     1.7244     2.1995     0.2932     2.8628     2.5725     2.1994     2.4836     1.7753 \\n\\t    3.6561     1.0894     7.3958     2.8974     2.8264     3.0918     3.0366     2.9098     1.3847     2.8453    12.6815    14.8190     1.5910     3.6053     8.4988    13.2704     9.7112     6.8158    14.9268     5.3109     3.4784     4.9353     0.2932     1.0736     2.5055     3.6896     2.5497     2.6158     4.2446     1.5003 \\n\\t    3.1345     2.2526     7.8458     7.4874    10.3072     2.2227     4.2814     2.7862     4.9956     6.9628     9.8508    11.3996     9.2079     7.6410     1.5911    16.4886    10.9325    10.6221    11.2370     9.6456     2.4486     2.4254     1.5438     1.4343     0.2807     3.6395     2.4818     1.9913     2.7685     2.2055  ];\\n', stderr=b'')"
      ]
     },
     "execution_count": 53,
     "metadata": {},
     "output_type": "execute_result"
    }
   ],
   "source": [
    "#command = np.array([\"./uhv_gomea\", \"-s\", \"-e\", \" -v\", \"1\", \"35\", \"3\" \"15\", \"-5\",\n",
    "#       \"5\", \"100\", \"1000\", \"1000000\", \"60\", \"120.7876\", \"1234\",  \"./\"])\n",
    "  \n",
    "command = np.array([algo, \"-s\", \"-e\", \"-v\", lmod, pro, dim, ssize, \n",
    "low, upp, pop, ela, eva, sec, vtr, rnd, wrp])    \n",
    "subprocess.run(command, capture_output=True)\n"
   ]
  },
  {
   "cell_type": "markdown",
   "metadata": {},
   "source": [
    "### Process data and show plots"
   ]
  },
  {
   "cell_type": "code",
   "execution_count": 54,
   "metadata": {
    "scrolled": true
   },
   "outputs": [
    {
     "data": {
      "text/plain": [
       "[<matplotlib.lines.Line2D at 0x7fe1b0e98cd0>]"
      ]
     },
     "execution_count": 54,
     "metadata": {},
     "output_type": "execute_result"
    },
    {
     "data": {
      "image/png": "[encoded data removed]",
      "text/plain": [
       "<Figure size 432x288 with 1 Axes>"
      ]
     },
     "metadata": {
      "needs_background": "light"
     },
     "output_type": "display_data"
    }
   ],
   "source": [
    "# path to statistics file\n",
    "path1 = \"\".join(\"./statistics_UVHGOMEA_lmod\" + lmod + \"_problem\" \n",
    "+ pro + \"_p\" + ssize + \"_run\" + rnd + \".dat\")\n",
    "\n",
    "#path to pareto front file\n",
    "path2 = \"\".join(\"./best_final_UVHGOMEA_lmod\" + lmod + \"_problem\" + pro\n",
    "+ \"_p\" + ssize + \"_run\" + rnd + \".dat\")\n",
    "\n",
    "df = pd.read_csv(path1, delim_whitespace=True)\n",
    "data = np.genfromtxt(path2, delimiter='')\n",
    "\n",
    "#print(data)\n",
    "df.head()\n",
    "data_conc = np.zeros((len(data[:,0]),2))\n",
    "data_conc[:,0] = data[:,0]\n",
    "data_conc[:,1] = data[:,1]\n",
    "\n",
    "#print(data_conc)\n",
    "\n",
    "plt.plot(data_conc[:,0],data_conc[:,1],'o')"
   ]
  },
  {
   "cell_type": "code",
   "execution_count": 28,
   "metadata": {
    "scrolled": false
   },
   "outputs": [
    {
     "data": {
      "text/plain": [
       "[<matplotlib.lines.Line2D at 0x7fe1b1192a60>]"
      ]
     },
     "execution_count": 28,
     "metadata": {},
     "output_type": "execute_result"
    },
    {
     "data": {
      "image/png": "[encoded data removed]",
      "text/plain": [
       "<Figure size 432x288 with 1 Axes>"
      ]
     },
     "metadata": {
      "needs_background": "light"
     },
     "output_type": "display_data"
    }
   ],
   "source": [
    "data_conc = np.zeros((len(data[:,0]),2))\n",
    "data_conc[:,0] = data[:,0]\n",
    "data_conc[:,1] = data[:,1]\n",
    "\n",
    "#print(data_conc)\n",
    "\n",
    "plt.plot(data_conc[:,0],data_conc[:,1],'o')\n",
    "#plt.plot(data_conc[:,1],data_conc[:,0],'o')"
   ]
  },
  {
   "cell_type": "code",
   "execution_count": 29,
   "metadata": {
    "scrolled": true
   },
   "outputs": [
    {
     "data": {
      "text/plain": [
       "[<matplotlib.lines.Line2D at 0x7fe1b114ae80>]"
      ]
     },
     "execution_count": 29,
     "metadata": {},
     "output_type": "execute_result"
    },
    {
     "data": {
      "image/png": "[encoded data removed]",
      "text/plain": [
       "<Figure size 432x288 with 1 Axes>"
      ]
     },
     "metadata": {
      "needs_background": "light"
     },
     "output_type": "display_data"
    }
   ],
   "source": [
    "#plt.plot(df.Evals, -1*df['Best-f'])\n",
    "plt.plot(df.Evals, df['Best-HV'])"
   ]
  }
 ],
 "metadata": {
  "kernelspec": {
   "display_name": "Python 3",
   "language": "python",
   "name": "python3"
  },
  "language_info": {
   "codemirror_mode": {
    "name": "ipython",
    "version": 3
   },
   "file_extension": ".py",
   "mimetype": "text/x-python",
   "name": "python",
   "nbconvert_exporter": "python",
   "pygments_lexer": "ipython3",
   "version": "3.8.0"
  }
 },
 "nbformat": 4,
 "nbformat_minor": 4
}
