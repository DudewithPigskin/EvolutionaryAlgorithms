{
 "cells": [
  {
   "cell_type": "code",
   "execution_count": 1,
   "metadata": {},
   "outputs": [],
   "source": [
    "import pandas as pd\n",
    "import matplotlib.pyplot as plt\n",
    "import numpy as np\n",
    "import subprocess"
   ]
  },
  {
   "cell_type": "markdown",
   "metadata": {},
   "source": [
    "### Settings"
   ]
  },
  {
   "cell_type": "code",
   "execution_count": 71,
   "metadata": {},
   "outputs": [],
   "source": [
    "#stuff to play with\n",
    "lmod = \"0\" #linkage model : 0 = LM, 1 = LT, 2 LF\n",
    "\n",
    "#(almost) set in stone\n",
    "algo = \"./uhv_gomea\" #which executable to use\n",
    "pro = \"35\" #problem index\n",
    "rnd = \"1234\" #random seed\n",
    "wrp = \"./\"\n",
    "\n",
    "# to keep in line with the others\n",
    "ssize = \"15\" #solution set size\n",
    "low = \"-100\" #lower init bound\n",
    "upp = \"100\" #upper init bound\n",
    "pop = \"100\" #population size\n",
    "ela = \"1000\" #elitist archive size target\n",
    "eva = \"1000000\" #maximum number of MO evaluations\n",
    "sec = \"360\" #time limit\n",
    "K = 10\n",
    "\n",
    "#not used\n",
    "vtr = \"123\" #value to reach (unsure if we should use or not)\n",
    "dim = str(3 * K) #number of parameters"
   ]
  },
  {
   "cell_type": "markdown",
   "metadata": {},
   "source": [
    "### Run algorithm (duurt ffkes)"
   ]
  },
  {
   "cell_type": "code",
   "execution_count": 75,
   "metadata": {
    "scrolled": true
   },
   "outputs": [
    {
     "data": {
      "text/plain": [
       "CompletedProcess(args=array(['./uhv_gomea', '-s', '-e', '-v', '0', '35', '30', '15', '-100',\n",
       "       '100', '100', '1000', '1000000', '360', '123', '1234', './'],\n",
       "      dtype='<U11'), returncode=0, stdout=b'Problem settings:\\n\\tfunction_name = RadReg\\n\\tproblem_index = 35\\n\\tmo_number_of_parameters = 30\\n\\tinit_range = [-100, 100]\\n\\tHV reference point = 200, 200\\nRun settings:\\n\\tmax_number_of_MO_evaluations = 1000000\\n\\tmaximum_number_of_seconds = 360\\n\\tuse_vtr = 0\\n\\tvtr = 123\\nArchive settings:\\n\\tCollect all MO-sol in archive = yes\\n\\tElitist_archive_target_size = 1000\\n\\tApproximation_set_size = 1000\\nOptimizer settings: \\n\\tSOHV\\n\\tlocal_optimizer_index = 64\\n\\ttest_points = 15\\n\\tnumber_of_reference_points = 15\\n\\tso_number_of_parameters = 450\\n\\tuse_finite_differences = no\\n\\tpopsize = 100\\n\\tenable_niching = no\\n\\trandom_seed = 1234\\nRestart with a popsize of 100, located 1 niche(s).\\n  Terminated core search algorithm because function evaluations limit reached\\n  Of 1 elite candidates, found 1 new optimum.\\nBest: \\n\\tHV = 3186.05113216061227\\n\\tMO-fevals = 1000005\\n\\truntime = 27.74936900000000 sec\\npareto_front0 = [\\n\\t  185.6238 27.0360 \\n\\t  185.1319 104.7292 \\n\\t  186.2539 22.2863 \\n\\t  186.3367 62.4720 \\n\\t  183.3407 38.6326 \\n\\t  191.7850 21.4838 \\n\\t  185.7169 84.8442 \\n\\t  186.8328 16.8479 \\n\\t  185.8699 31.4112 \\n\\t  185.5861 10.8979 \\n\\t  186.6578 54.3327 \\n\\t  186.6413 3.0876 \\n\\t  186.5452 20.6652 \\n\\t  186.1210 100.6065 \\n\\t  189.6932 28.8313  ];\\npareto_set0 = [\\n\\t    3.6612    16.1193     3.2847     7.7245    14.4290     3.6949     4.0598    11.5310     3.3505     3.0987     9.4018     1.4364     7.4058     1.4961     0.3041     5.1208    16.9534     5.2123     2.6219    12.6371     3.6263     6.2351    12.9866     3.4114     4.7060     7.2222     2.0631     4.7157     5.8046     1.9610 \\n\\t   12.3256    13.0929     2.4539    10.8910    11.1424     2.7009     8.4933     8.9052     2.5067     9.1392    10.8256     3.2044     8.9055     1.5677     0.3782     9.2141     7.0292     1.5175     9.4849    15.4804     3.6129    13.2170    13.8651     2.6212     8.7212    10.9810     2.7089    10.7786    13.0414     3.5536 \\n\\t    5.0555    12.3456     2.0004     1.2765     8.3321     2.1294     6.3810    12.2242     3.7073     2.5851    10.1318     1.4771     7.4405     5.9444     1.7283     1.3886    16.0964     3.7688     4.3742    14.3465     3.5042     4.0505    17.1551     3.8789     2.7827     5.0956     1.4861     6.9067     1.8376     0.7837 \\n\\t   11.2864     9.8400     2.5914     7.5699     7.9219     1.9419     9.2169     9.0541     2.3533     7.0616    13.2055     2.7753     6.9304     1.4690     0.4988     4.3270    13.4994     3.1124     9.7687    16.7600     3.8286     7.4972    15.9342     3.9993     6.6273     5.9370     1.0832     6.5503     9.7808     2.3130 \\n\\t   10.1356    14.4447     3.5720     7.0664     8.2141     2.1863     5.1299     9.8261     3.1065     4.7050    12.8526     3.5060     7.2390     1.5277     0.3697     5.5286    15.4795     2.3373     5.7771    16.3579     3.8084     0.8882    14.7918     3.9473     3.4631     1.5906     0.3335     7.4889     0.3252     0.1696 \\n\\t    6.5231    16.9137     3.8783     5.9017    14.9279     3.6404     5.4856     0.4820     0.2937     2.1549    15.2453     3.9118     5.8677     5.2947     2.0492     3.7584    13.7340     3.5510     3.3241    13.5705     3.7346     3.9328    17.5354     4.6707     4.0436     5.1895     1.4696     3.3614     6.5709     2.1710 \\n\\t   11.4670    13.3550     2.4006    10.3698    15.1204     4.1036    11.4105     7.6507     1.8122     3.5495    13.6984     3.2941     9.0804     1.6847     0.5044     6.1973    11.6942     2.8631    12.0400    13.0435     2.1084     7.0246    14.5175     3.2520     8.8715    12.3088     3.4527     8.5293    10.3478     2.2398 \\n\\t    3.4264    15.1558     2.8094     2.9355    12.4828     3.5691     5.0130     7.5926     2.4479     2.6053    10.9534     2.4764     4.6119     7.1167     2.1694     3.8038    16.9376     3.9277     4.6086    12.9503     3.3391     3.7593    14.6687     3.9321     2.5335     5.2309     1.8574     6.2190     2.3252     0.8292 \\n\\t    6.2819    14.1369     2.5101     8.9134     5.0564     1.5113     5.9432     7.3763     2.5284     4.8229    12.6467     2.6548     5.5180     8.2985     2.7944     2.4652    15.5401     2.9000     6.3423    16.5914     3.6334     2.2440    17.2177     5.0436     3.2850     2.1602     0.7345     6.6365     0.4097     0.0292 \\n\\t    3.6106    19.7266     3.8343     2.9184    13.3473     3.1079     3.4526    10.9099     3.4850     3.5656     8.6529     2.6251     5.3459     1.6547     0.4284     1.5615    16.1800     4.3751     2.6914    13.6833     3.2107     3.0396    17.2217     4.4076     1.1246     3.6053     1.1829     3.7454     3.2708     1.3243 \\n\\t   11.4756    12.7158     2.9101     9.5167    10.9486     3.3147     7.2912     7.8030     2.3219     4.7567    11.6854     1.5561     7.7921     1.7164     0.7323     6.5283    11.4126     1.7528     8.8680    13.2038     2.9303     6.1138    15.4640     3.5072     2.9774     6.3140     1.3495     4.1306     5.7815     0.9475 \\n\\t    0.3428    14.1138     4.8114     0.1184     9.9459     5.1488     2.8332     2.2073     1.0260     1.4438    12.2032     3.3313     0.6427    14.0045     4.8924     0.8919    17.5926     4.4929     2.6610     8.7064     2.7531     1.5187    13.3682     4.7683     3.0612     1.6809     0.5209     0.8162     6.3837     1.9550 \\n\\t    5.2317    17.3791     2.8462     3.3326    12.9208     3.4537     2.8793     6.5434     2.0450     4.3457    10.5826     2.6485     5.8416     2.1933     0.7584     4.0266    16.3305     3.7572     3.7196    12.0301     4.0238     4.8968    15.6798     3.8309     6.2722     5.3134     1.8633     3.6751     5.7440     1.8643 \\n\\t   12.6660    12.0741     2.3993    12.0452    14.6136     3.9434    13.4812     7.2782     1.5225     7.4961    12.5447     3.0698     8.2470     2.1643     0.7599     5.0067    10.7000     2.1993    11.8094    10.2229     1.6362     8.5276    12.4923     2.0799     8.8323    11.2391     3.0949     8.9075    13.5395     3.1387 \\n\\t    3.1338    14.5871     3.0611     6.4939    11.9539     3.7262     4.7457     6.1477     2.1849     5.4306    12.0713     2.2918     6.2427     3.8825     1.4262     5.4103    14.1159     3.0940     5.1600    14.6408     3.7873     5.2367    16.0627     3.3008     3.6610     5.1978     1.4122     6.9723     6.5810     1.8400  ];\\n', stderr=b'')"
      ]
     },
     "execution_count": 75,
     "metadata": {},
     "output_type": "execute_result"
    }
   ],
   "source": [
    "#command = np.array([\"./uhv_gomea\", \"-s\", \"-e\", \" -v\", \"1\", \"35\", \"3\" \"15\", \"-5\",\n",
    "#       \"5\", \"100\", \"1000\", \"1000000\", \"60\", \"120.7876\", \"1234\",  \"./\"])\n",
    "  \n",
    "command = np.array([algo, \"-s\", \"-e\", \"-v\", lmod, pro, dim, ssize, \n",
    "low, upp, pop, ela, eva, sec, vtr, rnd, wrp])    \n",
    "subprocess.run(command, capture_output=True)\n"
   ]
  },
  {
   "cell_type": "markdown",
   "metadata": {},
   "source": [
    "### Process data and show plots"
   ]
  },
  {
   "cell_type": "code",
   "execution_count": 76,
   "metadata": {
    "scrolled": false
   },
   "outputs": [
    {
     "data": {
      "text/html": [
       "<div>\n",
       "<style scoped>\n",
       "    .dataframe tbody tr th:only-of-type {\n",
       "        vertical-align: middle;\n",
       "    }\n",
       "\n",
       "    .dataframe tbody tr th {\n",
       "        vertical-align: top;\n",
       "    }\n",
       "\n",
       "    .dataframe thead th {\n",
       "        text-align: right;\n",
       "    }\n",
       "</style>\n",
       "<table border=\"1\" class=\"dataframe\">\n",
       "  <thead>\n",
       "    <tr style=\"text-align: right;\">\n",
       "      <th></th>\n",
       "      <th>Gen</th>\n",
       "      <th>Evals</th>\n",
       "      <th>Time</th>\n",
       "      <th>Best-f</th>\n",
       "      <th>Best-constr</th>\n",
       "      <th>Average-obj</th>\n",
       "      <th>Std-obj</th>\n",
       "      <th>Avg-constr</th>\n",
       "      <th>Std-constr</th>\n",
       "      <th>Best-HV</th>\n",
       "      <th>Best-IGD</th>\n",
       "      <th>Best-GD</th>\n",
       "      <th>size</th>\n",
       "      <th>Archive-HV</th>\n",
       "      <th>Archive-IGD</th>\n",
       "      <th>Archive-GD</th>\n",
       "      <th>size.1</th>\n",
       "      <th>MO-evals</th>\n",
       "    </tr>\n",
       "  </thead>\n",
       "  <tbody>\n",
       "    <tr>\n",
       "      <th>0</th>\n",
       "      <td>0</td>\n",
       "      <td>100</td>\n",
       "      <td>0.02009</td>\n",
       "      <td>5.313542e+06</td>\n",
       "      <td>0.0</td>\n",
       "      <td>15280000.0</td>\n",
       "      <td>0.4404</td>\n",
       "      <td>0.0</td>\n",
       "      <td>0.0</td>\n",
       "      <td>0.0</td>\n",
       "      <td>0.0</td>\n",
       "      <td>0.0</td>\n",
       "      <td>4</td>\n",
       "      <td>0.0</td>\n",
       "      <td>0.0</td>\n",
       "      <td>0.0</td>\n",
       "      <td>11</td>\n",
       "      <td>1500</td>\n",
       "    </tr>\n",
       "    <tr>\n",
       "      <th>1</th>\n",
       "      <td>1</td>\n",
       "      <td>199</td>\n",
       "      <td>0.11450</td>\n",
       "      <td>4.205643e+06</td>\n",
       "      <td>0.0</td>\n",
       "      <td>6415000.0</td>\n",
       "      <td>0.1601</td>\n",
       "      <td>0.0</td>\n",
       "      <td>0.0</td>\n",
       "      <td>0.0</td>\n",
       "      <td>0.0</td>\n",
       "      <td>0.0</td>\n",
       "      <td>1</td>\n",
       "      <td>0.0</td>\n",
       "      <td>0.0</td>\n",
       "      <td>0.0</td>\n",
       "      <td>10</td>\n",
       "      <td>2985</td>\n",
       "    </tr>\n",
       "    <tr>\n",
       "      <th>2</th>\n",
       "      <td>2</td>\n",
       "      <td>315</td>\n",
       "      <td>0.18040</td>\n",
       "      <td>3.247215e+06</td>\n",
       "      <td>0.0</td>\n",
       "      <td>4194000.0</td>\n",
       "      <td>0.1800</td>\n",
       "      <td>0.0</td>\n",
       "      <td>0.0</td>\n",
       "      <td>0.0</td>\n",
       "      <td>0.0</td>\n",
       "      <td>0.0</td>\n",
       "      <td>2</td>\n",
       "      <td>0.0</td>\n",
       "      <td>0.0</td>\n",
       "      <td>0.0</td>\n",
       "      <td>4</td>\n",
       "      <td>4725</td>\n",
       "    </tr>\n",
       "    <tr>\n",
       "      <th>3</th>\n",
       "      <td>3</td>\n",
       "      <td>431</td>\n",
       "      <td>0.22830</td>\n",
       "      <td>2.138450e+06</td>\n",
       "      <td>0.0</td>\n",
       "      <td>2752000.0</td>\n",
       "      <td>0.2091</td>\n",
       "      <td>0.0</td>\n",
       "      <td>0.0</td>\n",
       "      <td>0.0</td>\n",
       "      <td>0.0</td>\n",
       "      <td>0.0</td>\n",
       "      <td>7</td>\n",
       "      <td>0.0</td>\n",
       "      <td>0.0</td>\n",
       "      <td>0.0</td>\n",
       "      <td>5</td>\n",
       "      <td>6465</td>\n",
       "    </tr>\n",
       "    <tr>\n",
       "      <th>4</th>\n",
       "      <td>4</td>\n",
       "      <td>547</td>\n",
       "      <td>0.27640</td>\n",
       "      <td>8.835310e+05</td>\n",
       "      <td>0.0</td>\n",
       "      <td>1896000.0</td>\n",
       "      <td>0.2021</td>\n",
       "      <td>0.0</td>\n",
       "      <td>0.0</td>\n",
       "      <td>0.0</td>\n",
       "      <td>0.0</td>\n",
       "      <td>0.0</td>\n",
       "      <td>3</td>\n",
       "      <td>0.0</td>\n",
       "      <td>0.0</td>\n",
       "      <td>0.0</td>\n",
       "      <td>11</td>\n",
       "      <td>8205</td>\n",
       "    </tr>\n",
       "  </tbody>\n",
       "</table>\n",
       "</div>"
      ],
      "text/plain": [
       "   Gen  Evals     Time        Best-f  Best-constr  Average-obj  Std-obj  \\\n",
       "0    0    100  0.02009  5.313542e+06          0.0   15280000.0   0.4404   \n",
       "1    1    199  0.11450  4.205643e+06          0.0    6415000.0   0.1601   \n",
       "2    2    315  0.18040  3.247215e+06          0.0    4194000.0   0.1800   \n",
       "3    3    431  0.22830  2.138450e+06          0.0    2752000.0   0.2091   \n",
       "4    4    547  0.27640  8.835310e+05          0.0    1896000.0   0.2021   \n",
       "\n",
       "   Avg-constr  Std-constr  Best-HV  Best-IGD  Best-GD  size  Archive-HV  \\\n",
       "0         0.0         0.0      0.0       0.0      0.0     4         0.0   \n",
       "1         0.0         0.0      0.0       0.0      0.0     1         0.0   \n",
       "2         0.0         0.0      0.0       0.0      0.0     2         0.0   \n",
       "3         0.0         0.0      0.0       0.0      0.0     7         0.0   \n",
       "4         0.0         0.0      0.0       0.0      0.0     3         0.0   \n",
       "\n",
       "   Archive-IGD  Archive-GD  size.1  MO-evals  \n",
       "0          0.0         0.0      11      1500  \n",
       "1          0.0         0.0      10      2985  \n",
       "2          0.0         0.0       4      4725  \n",
       "3          0.0         0.0       5      6465  \n",
       "4          0.0         0.0      11      8205  "
      ]
     },
     "execution_count": 76,
     "metadata": {},
     "output_type": "execute_result"
    }
   ],
   "source": [
    "# path to statistics file\n",
    "path1 = \"\".join(\"./statistics_UVHGOMEA_lmod\" + lmod + \"_problem\" \n",
    "+ pro + \"_p\" + ssize + \"_run\" + rnd + \".dat\")\n",
    "\n",
    "#path to pareto front file\n",
    "path2 = \"\".join(\"./best_final_UVHGOMEA_lmod\" + lmod + \"_problem\" + pro\n",
    "+ \"_p\" + ssize + \"_run\" + rnd + \".dat\")\n",
    "\n",
    "df = pd.read_csv(path1, delim_whitespace=True)\n",
    "data = np.genfromtxt(path2, delimiter='')\n",
    "\n",
    "#print(data)\n",
    "df.head()\n"
   ]
  },
  {
   "cell_type": "code",
   "execution_count": 77,
   "metadata": {
    "scrolled": true
   },
   "outputs": [
    {
     "data": {
      "text/plain": [
       "[<matplotlib.lines.Line2D at 0x7f568f3a7280>]"
      ]
     },
     "execution_count": 77,
     "metadata": {},
     "output_type": "execute_result"
    },
    {
     "data": {
      "image/png": "[encoded data removed]",
      "text/plain": [
       "<Figure size 432x288 with 1 Axes>"
      ]
     },
     "metadata": {
      "needs_background": "light"
     },
     "output_type": "display_data"
    }
   ],
   "source": [
    "data_conc = np.zeros((len(data[:,0]),2))\n",
    "data_conc[:,0] = data[:,0]\n",
    "data_conc[:,1] = data[:,1]\n",
    "\n",
    "#print(data_conc)\n",
    "\n",
    "plt.plot(data_conc[:,0],data_conc[:,1],'o')\n",
    "#plt.plot(data_conc[:,1],data_conc[:,0],'o')"
   ]
  },
  {
   "cell_type": "code",
   "execution_count": 78,
   "metadata": {
    "scrolled": true
   },
   "outputs": [
    {
     "data": {
      "text/plain": [
       "[<matplotlib.lines.Line2D at 0x7f568f0ad2b0>]"
      ]
     },
     "execution_count": 78,
     "metadata": {},
     "output_type": "execute_result"
    },
    {
     "data": {
      "image/png": "[encoded data removed]",
      "text/plain": [
       "<Figure size 432x288 with 1 Axes>"
      ]
     },
     "metadata": {
      "needs_background": "light"
     },
     "output_type": "display_data"
    }
   ],
   "source": [
    "#plt.plot(df.Evals, -1*df['Best-f'])\n",
    "plt.plot(df.Evals, df['Best-HV'])"
   ]
  }
 ],
 "metadata": {
  "kernelspec": {
   "display_name": "Python 3",
   "language": "python",
   "name": "python3"
  },
  "language_info": {
   "codemirror_mode": {
    "name": "ipython",
    "version": 3
   },
   "file_extension": ".py",
   "mimetype": "text/x-python",
   "name": "python",
   "nbconvert_exporter": "python",
   "pygments_lexer": "ipython3",
   "version": "3.8.0"
  }
 },
 "nbformat": 4,
 "nbformat_minor": 4
}
